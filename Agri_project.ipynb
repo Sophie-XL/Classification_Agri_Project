{
 "cells": [
  {
   "cell_type": "code",
   "execution_count": 1,
   "id": "d5173197-ee42-48a0-90e2-5e5b21e86586",
   "metadata": {},
   "outputs": [],
   "source": [
    "# Import necessary modules\n",
    "import numpy as np\n",
    "import pandas as pd\n",
    "import matplotlib.pyplot as plt\n",
    "from sklearn.linear_model import LogisticRegression\n",
    "from sklearn.neighbors import KNeighborsClassifier\n",
    "from sklearn.tree import DecisionTreeClassifier\n",
    "from sklearn.model_selection import train_test_split\n",
    "from sklearn import metrics\n",
    "from sklearn.metrics import accuracy_score, classification_report\n",
    "from sklearn.preprocessing import StandardScaler\n",
    "from sklearn.model_selection import cross_val_score, KFold\n",
    "from sklearn.model_selection import GridSearchCV"
   ]
  },
  {
   "cell_type": "code",
   "execution_count": 2,
   "id": "e4551024-60d8-48de-b392-53bc34ee9ac3",
   "metadata": {},
   "outputs": [],
   "source": [
    "# Load the dataset\n",
    "crops = pd.read_csv(\"Agri Project/soil_measures.csv\")"
   ]
  },
  {
   "cell_type": "code",
   "execution_count": 3,
   "id": "7893fae8-ea54-485c-b440-a86b11e5ca2e",
   "metadata": {},
   "outputs": [
    {
     "data": {
      "text/html": [
       "<div>\n",
       "<style scoped>\n",
       "    .dataframe tbody tr th:only-of-type {\n",
       "        vertical-align: middle;\n",
       "    }\n",
       "\n",
       "    .dataframe tbody tr th {\n",
       "        vertical-align: top;\n",
       "    }\n",
       "\n",
       "    .dataframe thead th {\n",
       "        text-align: right;\n",
       "    }\n",
       "</style>\n",
       "<table border=\"1\" class=\"dataframe\">\n",
       "  <thead>\n",
       "    <tr style=\"text-align: right;\">\n",
       "      <th></th>\n",
       "      <th>N</th>\n",
       "      <th>P</th>\n",
       "      <th>K</th>\n",
       "      <th>ph</th>\n",
       "      <th>crop</th>\n",
       "    </tr>\n",
       "  </thead>\n",
       "  <tbody>\n",
       "    <tr>\n",
       "      <th>0</th>\n",
       "      <td>90</td>\n",
       "      <td>42</td>\n",
       "      <td>43</td>\n",
       "      <td>6.502985</td>\n",
       "      <td>rice</td>\n",
       "    </tr>\n",
       "    <tr>\n",
       "      <th>1</th>\n",
       "      <td>85</td>\n",
       "      <td>58</td>\n",
       "      <td>41</td>\n",
       "      <td>7.038096</td>\n",
       "      <td>rice</td>\n",
       "    </tr>\n",
       "    <tr>\n",
       "      <th>2</th>\n",
       "      <td>60</td>\n",
       "      <td>55</td>\n",
       "      <td>44</td>\n",
       "      <td>7.840207</td>\n",
       "      <td>rice</td>\n",
       "    </tr>\n",
       "    <tr>\n",
       "      <th>3</th>\n",
       "      <td>74</td>\n",
       "      <td>35</td>\n",
       "      <td>40</td>\n",
       "      <td>6.980401</td>\n",
       "      <td>rice</td>\n",
       "    </tr>\n",
       "    <tr>\n",
       "      <th>4</th>\n",
       "      <td>78</td>\n",
       "      <td>42</td>\n",
       "      <td>42</td>\n",
       "      <td>7.628473</td>\n",
       "      <td>rice</td>\n",
       "    </tr>\n",
       "  </tbody>\n",
       "</table>\n",
       "</div>"
      ],
      "text/plain": [
       "    N   P   K        ph  crop\n",
       "0  90  42  43  6.502985  rice\n",
       "1  85  58  41  7.038096  rice\n",
       "2  60  55  44  7.840207  rice\n",
       "3  74  35  40  6.980401  rice\n",
       "4  78  42  42  7.628473  rice"
      ]
     },
     "execution_count": 3,
     "metadata": {},
     "output_type": "execute_result"
    }
   ],
   "source": [
    "# Descriptive Data analysis\n",
    "crops.head()"
   ]
  },
  {
   "cell_type": "code",
   "execution_count": 4,
   "id": "da3e675d-0e14-4dd7-9308-c19bac73a1a9",
   "metadata": {},
   "outputs": [
    {
     "name": "stdout",
     "output_type": "stream",
     "text": [
      "<class 'pandas.core.frame.DataFrame'>\n",
      "RangeIndex: 2200 entries, 0 to 2199\n",
      "Data columns (total 5 columns):\n",
      " #   Column  Non-Null Count  Dtype  \n",
      "---  ------  --------------  -----  \n",
      " 0   N       2200 non-null   int64  \n",
      " 1   P       2200 non-null   int64  \n",
      " 2   K       2200 non-null   int64  \n",
      " 3   ph      2200 non-null   float64\n",
      " 4   crop    2200 non-null   object \n",
      "dtypes: float64(1), int64(3), object(1)\n",
      "memory usage: 86.1+ KB\n"
     ]
    }
   ],
   "source": [
    "# No null values in the dataset, ready for classification\n",
    "crops.info()"
   ]
  },
  {
   "cell_type": "code",
   "execution_count": 5,
   "id": "de30efbc-dba5-48e7-824b-e532e6ee512b",
   "metadata": {},
   "outputs": [
    {
     "data": {
      "text/plain": [
       "N       0\n",
       "P       0\n",
       "K       0\n",
       "ph      0\n",
       "crop    0\n",
       "dtype: int64"
      ]
     },
     "execution_count": 5,
     "metadata": {},
     "output_type": "execute_result"
    }
   ],
   "source": [
    "crops.isna().sum().sort_values()"
   ]
  },
  {
   "cell_type": "code",
   "execution_count": 6,
   "id": "215ee585-3879-4f8b-a4ef-c3606eeeb695",
   "metadata": {},
   "outputs": [
    {
     "data": {
      "text/html": [
       "<div>\n",
       "<style scoped>\n",
       "    .dataframe tbody tr th:only-of-type {\n",
       "        vertical-align: middle;\n",
       "    }\n",
       "\n",
       "    .dataframe tbody tr th {\n",
       "        vertical-align: top;\n",
       "    }\n",
       "\n",
       "    .dataframe thead th {\n",
       "        text-align: right;\n",
       "    }\n",
       "</style>\n",
       "<table border=\"1\" class=\"dataframe\">\n",
       "  <thead>\n",
       "    <tr style=\"text-align: right;\">\n",
       "      <th></th>\n",
       "      <th>N</th>\n",
       "      <th>P</th>\n",
       "      <th>K</th>\n",
       "      <th>ph</th>\n",
       "    </tr>\n",
       "  </thead>\n",
       "  <tbody>\n",
       "    <tr>\n",
       "      <th>count</th>\n",
       "      <td>2200.000000</td>\n",
       "      <td>2200.000000</td>\n",
       "      <td>2200.000000</td>\n",
       "      <td>2200.000000</td>\n",
       "    </tr>\n",
       "    <tr>\n",
       "      <th>mean</th>\n",
       "      <td>50.551818</td>\n",
       "      <td>53.362727</td>\n",
       "      <td>48.149091</td>\n",
       "      <td>6.469480</td>\n",
       "    </tr>\n",
       "    <tr>\n",
       "      <th>std</th>\n",
       "      <td>36.917334</td>\n",
       "      <td>32.985883</td>\n",
       "      <td>50.647931</td>\n",
       "      <td>0.773938</td>\n",
       "    </tr>\n",
       "    <tr>\n",
       "      <th>min</th>\n",
       "      <td>0.000000</td>\n",
       "      <td>5.000000</td>\n",
       "      <td>5.000000</td>\n",
       "      <td>3.504752</td>\n",
       "    </tr>\n",
       "    <tr>\n",
       "      <th>25%</th>\n",
       "      <td>21.000000</td>\n",
       "      <td>28.000000</td>\n",
       "      <td>20.000000</td>\n",
       "      <td>5.971693</td>\n",
       "    </tr>\n",
       "    <tr>\n",
       "      <th>50%</th>\n",
       "      <td>37.000000</td>\n",
       "      <td>51.000000</td>\n",
       "      <td>32.000000</td>\n",
       "      <td>6.425045</td>\n",
       "    </tr>\n",
       "    <tr>\n",
       "      <th>75%</th>\n",
       "      <td>84.250000</td>\n",
       "      <td>68.000000</td>\n",
       "      <td>49.000000</td>\n",
       "      <td>6.923643</td>\n",
       "    </tr>\n",
       "    <tr>\n",
       "      <th>max</th>\n",
       "      <td>140.000000</td>\n",
       "      <td>145.000000</td>\n",
       "      <td>205.000000</td>\n",
       "      <td>9.935091</td>\n",
       "    </tr>\n",
       "  </tbody>\n",
       "</table>\n",
       "</div>"
      ],
      "text/plain": [
       "                 N            P            K           ph\n",
       "count  2200.000000  2200.000000  2200.000000  2200.000000\n",
       "mean     50.551818    53.362727    48.149091     6.469480\n",
       "std      36.917334    32.985883    50.647931     0.773938\n",
       "min       0.000000     5.000000     5.000000     3.504752\n",
       "25%      21.000000    28.000000    20.000000     5.971693\n",
       "50%      37.000000    51.000000    32.000000     6.425045\n",
       "75%      84.250000    68.000000    49.000000     6.923643\n",
       "max     140.000000   145.000000   205.000000     9.935091"
      ]
     },
     "execution_count": 6,
     "metadata": {},
     "output_type": "execute_result"
    }
   ],
   "source": [
    "# Distribution of data is reasonable, no need for further cleaning.\n",
    "# The range of input variables are different, standard scaling will be applied to address this issue\n",
    "crops.describe()"
   ]
  },
  {
   "cell_type": "code",
   "execution_count": 7,
   "id": "f382cf89-9d41-44a5-a7de-8acf3bd2046e",
   "metadata": {},
   "outputs": [
    {
     "data": {
      "text/plain": [
       "22"
      ]
     },
     "execution_count": 7,
     "metadata": {},
     "output_type": "execute_result"
    }
   ],
   "source": [
    "# There are 22 unique crops\n",
    "crops['crop'].nunique()"
   ]
  },
  {
   "cell_type": "code",
   "execution_count": 8,
   "id": "1f77952b-a787-42a6-988e-088f59a3a220",
   "metadata": {},
   "outputs": [],
   "source": [
    "# Crate X and y arrays\n",
    "X = crops.drop('crop', axis = 1).values\n",
    "y = crops['crop'].values"
   ]
  },
  {
   "cell_type": "code",
   "execution_count": 22,
   "id": "dd3fab1e-0c32-488e-9426-21367487508c",
   "metadata": {},
   "outputs": [
    {
     "name": "stdout",
     "output_type": "stream",
     "text": [
      "[[ 90.          42.          43.           6.50298529]\n",
      " [ 85.          58.          41.           7.03809636]\n",
      " [ 60.          55.          44.           7.84020714]\n",
      " ...\n",
      " [118.          33.          30.           6.36260785]\n",
      " [117.          32.          34.           6.75879255]\n",
      " [104.          18.          30.           6.77983261]]\n",
      "['rice' 'rice' 'rice' ... 'coffee' 'coffee' 'coffee']\n"
     ]
    }
   ],
   "source": [
    "# Double check input variables\n",
    "print(X)\n",
    "print(y)"
   ]
  },
  {
   "cell_type": "code",
   "execution_count": 23,
   "id": "3da39f13-e1a6-4bf9-b0a5-72232dabe11f",
   "metadata": {},
   "outputs": [],
   "source": [
    "# Split the dataset into train and test set\n",
    "X_train, X_test, y_train, y_test = train_test_split(X, y, test_size=0.2, random_state=42)"
   ]
  },
  {
   "cell_type": "code",
   "execution_count": 24,
   "id": "76daa38b-681e-4380-81f1-c05ca4cba136",
   "metadata": {},
   "outputs": [],
   "source": [
    "# Scale input variables N, P, K and pH\n",
    "scaler = StandardScaler()\n",
    "X_train_scaled = scaler.fit_transform(X_train)\n",
    "X_test_scaled = scaler.transform(X_test)"
   ]
  },
  {
   "cell_type": "code",
   "execution_count": 25,
   "id": "9e63c783-097f-44b5-ab6b-302515e06e68",
   "metadata": {},
   "outputs": [
    {
     "data": {
      "image/png": "[encoded data removed]",
      "text/plain": [
       "<Figure size 640x480 with 1 Axes>"
      ]
     },
     "metadata": {},
     "output_type": "display_data"
    }
   ],
   "source": [
    "# Classification model selection: Logistice, KNN and Decision Tree\n",
    "models = {\"Logistic Regression\": LogisticRegression(),\n",
    "\"KNN\": KNeighborsClassifier(),\n",
    "\"Decision Tree\": DecisionTreeClassifier()}\n",
    "results = []\n",
    "for model in models.values():\n",
    "    kf = KFold(n_splits=6, random_state=42, shuffle=True)\n",
    "    cv_results = cross_val_score(model, X_train_scaled, y_train, cv=kf)\n",
    "    results.append(cv_results)\n",
    "plt.boxplot(results, labels=models.keys())\n",
    "plt.show()"
   ]
  },
  {
   "cell_type": "code",
   "execution_count": 26,
   "id": "d8791384-fc5b-4332-9701-6e1a16a1fb49",
   "metadata": {},
   "outputs": [
    {
     "name": "stdout",
     "output_type": "stream",
     "text": [
      "Logistic Regression Test Set Accuracy: 0.6590909090909091\n",
      "              precision    recall  f1-score   support\n",
      "\n",
      "       apple       0.88      0.30      0.45        23\n",
      "      banana       1.00      1.00      1.00        21\n",
      "   blackgram       0.76      0.65      0.70        20\n",
      "    chickpea       1.00      0.77      0.87        26\n",
      "     coconut       0.81      0.63      0.71        27\n",
      "      coffee       0.76      0.76      0.76        17\n",
      "      cotton       0.88      0.88      0.88        17\n",
      "      grapes       0.45      0.93      0.60        14\n",
      "        jute       0.50      0.48      0.49        23\n",
      " kidneybeans       0.45      0.65      0.53        20\n",
      "      lentil       0.30      0.64      0.41        11\n",
      "       maize       0.91      1.00      0.95        21\n",
      "       mango       0.40      0.53      0.45        19\n",
      "   mothbeans       0.60      0.25      0.35        24\n",
      "    mungbean       0.67      0.74      0.70        19\n",
      "   muskmelon       0.62      0.76      0.68        17\n",
      "      orange       1.00      1.00      1.00        14\n",
      "      papaya       0.74      1.00      0.85        23\n",
      "  pigeonpeas       0.18      0.09      0.12        23\n",
      " pomegranate       0.69      0.87      0.77        23\n",
      "        rice       0.38      0.32      0.34        19\n",
      "  watermelon       0.73      0.58      0.65        19\n",
      "\n",
      "    accuracy                           0.66       440\n",
      "   macro avg       0.67      0.67      0.65       440\n",
      "weighted avg       0.68      0.66      0.65       440\n",
      "\n",
      "KNN Test Set Accuracy: 0.7386363636363636\n",
      "              precision    recall  f1-score   support\n",
      "\n",
      "       apple       0.74      0.61      0.67        23\n",
      "      banana       1.00      1.00      1.00        21\n",
      "   blackgram       0.69      0.90      0.78        20\n",
      "    chickpea       1.00      1.00      1.00        26\n",
      "     coconut       0.60      0.89      0.72        27\n",
      "      coffee       0.77      0.59      0.67        17\n",
      "      cotton       0.81      1.00      0.89        17\n",
      "      grapes       0.50      0.64      0.56        14\n",
      "        jute       0.67      0.70      0.68        23\n",
      " kidneybeans       0.69      0.90      0.78        20\n",
      "      lentil       0.36      0.45      0.40        11\n",
      "       maize       1.00      0.90      0.95        21\n",
      "       mango       0.63      0.63      0.63        19\n",
      "   mothbeans       0.94      0.62      0.75        24\n",
      "    mungbean       0.85      0.89      0.87        19\n",
      "   muskmelon       0.45      0.59      0.51        17\n",
      "      orange       1.00      0.86      0.92        14\n",
      "      papaya       0.96      1.00      0.98        23\n",
      "  pigeonpeas       0.69      0.39      0.50        23\n",
      " pomegranate       0.93      0.57      0.70        23\n",
      "        rice       0.50      0.47      0.49        19\n",
      "  watermelon       0.53      0.42      0.47        19\n",
      "\n",
      "    accuracy                           0.74       440\n",
      "   macro avg       0.74      0.73      0.72       440\n",
      "weighted avg       0.76      0.74      0.74       440\n",
      "\n",
      "Decision Tree Test Set Accuracy: 0.7727272727272727\n",
      "              precision    recall  f1-score   support\n",
      "\n",
      "       apple       0.67      0.61      0.64        23\n",
      "      banana       1.00      1.00      1.00        21\n",
      "   blackgram       0.88      0.70      0.78        20\n",
      "    chickpea       1.00      1.00      1.00        26\n",
      "     coconut       0.83      0.89      0.86        27\n",
      "      coffee       0.89      0.94      0.91        17\n",
      "      cotton       0.89      1.00      0.94        17\n",
      "      grapes       0.44      0.50      0.47        14\n",
      "        jute       0.52      0.57      0.54        23\n",
      " kidneybeans       0.75      0.75      0.75        20\n",
      "      lentil       0.28      0.45      0.34        11\n",
      "       maize       1.00      0.95      0.98        21\n",
      "       mango       0.86      0.63      0.73        19\n",
      "   mothbeans       0.86      0.75      0.80        24\n",
      "    mungbean       0.85      0.89      0.87        19\n",
      "   muskmelon       0.62      0.59      0.61        17\n",
      "      orange       1.00      1.00      1.00        14\n",
      "      papaya       1.00      1.00      1.00        23\n",
      "  pigeonpeas       0.50      0.52      0.51        23\n",
      " pomegranate       0.92      0.96      0.94        23\n",
      "        rice       0.47      0.37      0.41        19\n",
      "  watermelon       0.65      0.68      0.67        19\n",
      "\n",
      "    accuracy                           0.77       440\n",
      "   macro avg       0.77      0.76      0.76       440\n",
      "weighted avg       0.78      0.77      0.77       440\n",
      "\n"
     ]
    }
   ],
   "source": [
    "# Decision Tree has the best cross-validation score on train sets, compare model accuracy on test sets\n",
    "for name, model in models.items():\n",
    "    model.fit(X_train_scaled, y_train)\n",
    "    y_pred = model.predict(X_test_scaled)\n",
    "    test_score = accuracy_score(y_test, y_pred)\n",
    "    print(\"{} Test Set Accuracy: {}\".format(name, test_score))\n",
    "    print(classification_report(y_test, y_pred))"
   ]
  },
  {
   "cell_type": "code",
   "execution_count": 27,
   "id": "5aa48195-8a62-492f-ae3f-5b4246e96cd5",
   "metadata": {},
   "outputs": [],
   "source": [
    "# Based on the accuracy score, choose the decision tree model for the classification problem\n",
    "# Fine-tune the decision tree model with Grid Search hyperparameter tuning\n",
    "\n",
    "# Define the parameter grid\n",
    "param_grid = {\n",
    "    'max_depth': [3, 5, 7, None],\n",
    "    'min_samples_split': [2, 5, 10],\n",
    "    'min_samples_leaf': [1, 2, 4]\n",
    "}\n",
    "\n",
    "# Choose a scoring metric\n",
    "scoring = 'accuracy'\n",
    "\n",
    "# Perform grid search with cross-validation\n",
    "grid_search = GridSearchCV(estimator=models[\"Decision Tree\"], param_grid=param_grid, scoring=scoring, cv=5)\n",
    "grid_search.fit(X_train_scaled, y_train)\n",
    "\n",
    "# Get the best hyperparameters and model\n",
    "best_params = grid_search.best_params_\n",
    "best_model = grid_search.best_estimator_\n",
    "\n",
    "# Evaluate the best model\n",
    "accuracy = best_model.score(X_test_scaled, y_test)"
   ]
  },
  {
   "cell_type": "code",
   "execution_count": 28,
   "id": "fa3243bb-b9d1-4ea4-824f-38f17bfb7370",
   "metadata": {},
   "outputs": [
    {
     "name": "stdout",
     "output_type": "stream",
     "text": [
      "Tuned Decision Tree Regression Parameters: {'max_depth': None, 'min_samples_leaf': 2, 'min_samples_split': 2},\n",
      "Accuracy: 0.7772727272727272\n"
     ]
    }
   ],
   "source": [
    "# After hyper-parameter tuning, the accuracy increased 0.02\n",
    "print(\"Tuned Decision Tree Regression Parameters: {},\\nAccuracy: {}\".format(best_params, accuracy))"
   ]
  },
  {
   "cell_type": "code",
   "execution_count": 29,
   "id": "df784b82-c925-4f56-852a-019f52b3620f",
   "metadata": {},
   "outputs": [
    {
     "name": "stdout",
     "output_type": "stream",
     "text": [
      "Feature: N, Importance: 0.23192780282975145\n",
      "Feature: P, Importance: 0.26589834222971004\n",
      "Feature: K, Importance: 0.3115496596054805\n",
      "Feature: ph, Importance: 0.190624195335058\n"
     ]
    }
   ],
   "source": [
    "# Find feature importance using Decision Tress model: most important feature is K (potassium content)\n",
    "# Get feature importances\n",
    "importances = best_model.feature_importances_\n",
    "# Map N, P, K, pH to feature #\n",
    "feature_importance_associated = zip(crops.drop(\"crop\", axis=1).columns, importances)\n",
    "\n",
    "# Print feature importance along with column names\n",
    "for feature, importance in feature_importance_associated:\n",
    "    print(f\"Feature: {feature}, Importance: {importance}\")"
   ]
  },
  {
   "cell_type": "code",
   "execution_count": 31,
   "id": "9b118a25-1abf-4080-8313-019f305de7fd",
   "metadata": {},
   "outputs": [
    {
     "data": {
      "text/plain": [
       "{'K': 0.3115496596054805}"
      ]
     },
     "execution_count": 31,
     "metadata": {},
     "output_type": "execute_result"
    }
   ],
   "source": [
    "# Store in best_predictive_feature dictionary\n",
    "best_predictive_feature = {crops.columns[np.argmax(importances)]: importances[np.argmax(importances)]}\n",
    "best_predictive_feature"
   ]
  }
 ],
 "metadata": {
  "kernelspec": {
   "display_name": "Python 3 (ipykernel)",
   "language": "python",
   "name": "python3"
  },
  "language_info": {
   "codemirror_mode": {
    "name": "ipython",
    "version": 3
   },
   "file_extension": ".py",
   "mimetype": "text/x-python",
   "name": "python",
   "nbconvert_exporter": "python",
   "pygments_lexer": "ipython3",
   "version": "3.12.2"
  }
 },
 "nbformat": 4,
 "nbformat_minor": 5
}
